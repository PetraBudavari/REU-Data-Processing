{
 "cells": [
  {
   "cell_type": "code",
   "execution_count": 36,
   "metadata": {},
   "outputs": [
    {
     "name": "stdout",
     "output_type": "stream",
     "text": [
      "        b    c\n",
      "a             \n",
      "0.0  32.0  0.6\n",
      "0.5  28.5  0.4\n",
      "1.0  25.0  0.2\n",
      "1.7  27.5  1.6\n",
      "2.0  30.0  3.0\n",
      "3.0  35.0  4.0\n",
      "3.6  35.0  4.0\n"
     ]
    }
   ],
   "source": [
    "import pandas as pd\n",
    "import numpy as np\n",
    "\n",
    "data = {'a': [0.0, 1.0, 2.0, 3.0],\n",
    "        'b': [32, 25, 30, 35],\n",
    "        'c': [0.6, 0.2, 3.0, 4.0]}\n",
    "df2 = pd.DataFrame(data)\n",
    "\n",
    "data2 = {'a': [1.7, 0.5, 3.6, 0.0]}\n",
    "df = pd.DataFrame(data2)\n",
    "\n",
    "merged_df = pd.merge(df, df2, on='a', how='outer')\n",
    "merged_df = merged_df.sort_values('a')\n",
    "merged_df.set_index('a', inplace=True)\n",
    "\n",
    "df_interpolated = merged_df.interpolate(method='linear')\n",
    "\n",
    "# Print the interpolated dataframe\n",
    "print(df_interpolated)\n",
    "\n",
    "\n"
   ]
  },
  {
   "cell_type": "code",
   "execution_count": 37,
   "metadata": {},
   "outputs": [
    {
     "ename": "NameError",
     "evalue": "name 'times' is not defined",
     "output_type": "error",
     "traceback": [
      "\u001b[1;31m---------------------------------------------------------------------------\u001b[0m",
      "\u001b[1;31mNameError\u001b[0m                                 Traceback (most recent call last)",
      "Cell \u001b[1;32mIn[37], line 1\u001b[0m\n\u001b[1;32m----> 1\u001b[0m merged_df \u001b[39m=\u001b[39m pd\u001b[39m.\u001b[39mmerge(times, df, left_on\u001b[39m=\u001b[39m\u001b[39m'\u001b[39m\u001b[39mtime\u001b[39m\u001b[39m'\u001b[39m, right_on\u001b[39m=\u001b[39m\u001b[39m'\u001b[39m\u001b[39mt\u001b[39m\u001b[39m'\u001b[39m, how\u001b[39m=\u001b[39m\u001b[39m'\u001b[39m\u001b[39mouter\u001b[39m\u001b[39m'\u001b[39m)\n\u001b[0;32m      3\u001b[0m merged_df[\u001b[39m'\u001b[39m\u001b[39mtime_x\u001b[39m\u001b[39m'\u001b[39m] \u001b[39m=\u001b[39m merged_df[\u001b[39m'\u001b[39m\u001b[39mtime_x\u001b[39m\u001b[39m'\u001b[39m]\u001b[39m.\u001b[39mfillna(\u001b[39m0\u001b[39m)\n\u001b[0;32m      4\u001b[0m merged_df[\u001b[39m'\u001b[39m\u001b[39mt\u001b[39m\u001b[39m'\u001b[39m] \u001b[39m=\u001b[39m merged_df[\u001b[39m'\u001b[39m\u001b[39mt\u001b[39m\u001b[39m'\u001b[39m]\u001b[39m.\u001b[39mfillna(\u001b[39m0\u001b[39m)\n",
      "\u001b[1;31mNameError\u001b[0m: name 'times' is not defined"
     ]
    }
   ],
   "source": [
    "        merged_df = pd.merge(times, df, left_on='time', right_on='t', how='outer')\n",
    "\n",
    "        merged_df['time_x'] = merged_df['time_x'].fillna(0)\n",
    "        merged_df['t'] = merged_df['t'].fillna(0)\n",
    "        merged_df['combined_times'] = merged_df['time_x'].astype('float64') + merged_df['t'].astype('float64')\n",
    "\n",
    "        columns_to_delete = ['time_x', 'time_y', 't', 'video_time']\n",
    "        merged_df = merged_df.drop(columns_to_delete, axis=1)\n",
    "        \n",
    "        sorted_df = merged_df.sort_values('combined_times')\n",
    "        print(sorted_df)\n",
    "\n",
    "        # Specify the column to use for interpolation\n",
    "        interpolation_column = sorted_df['combined_times']\n",
    "\n",
    "        # Interpolate the specified columns based on 'interpolation_column'\n",
    "        sorted_df[['status', 'x', 'y', 'z', 'azimuth', 'elevation', 'roll', 'button', 'quality']] = sorted_df[['status', 'x', 'y', 'z', 'azimuth', 'elevation', 'roll', 'button', 'quality']].interpolate(method='linear', x=interpolation_column)\n",
    "\n",
    "        sorted_df['combined_times'] = sorted_df['combined_times'].interpolate(method='linear', limit_direction='both')\n",
    "\n",
    "# Display the merged DataFrame\n",
    "        #print(sorted_df)"
   ]
  },
  {
   "cell_type": "code",
   "execution_count": 63,
   "metadata": {},
   "outputs": [
    {
     "data": {
      "text/plain": [
       "[WindowsPath('D:/Kinematic_data/891038_kinematics.txt'),\n",
       " WindowsPath('D:/Kinematic_data/891039_kinematics.txt')]"
      ]
     },
     "metadata": {},
     "output_type": "display_data"
    },
    {
     "data": {
      "text/html": [
       "<div>\n",
       "<style scoped>\n",
       "    .dataframe tbody tr th:only-of-type {\n",
       "        vertical-align: middle;\n",
       "    }\n",
       "\n",
       "    .dataframe tbody tr th {\n",
       "        vertical-align: top;\n",
       "    }\n",
       "\n",
       "    .dataframe thead th {\n",
       "        text-align: right;\n",
       "    }\n",
       "</style>\n",
       "<table border=\"1\" class=\"dataframe\">\n",
       "  <thead>\n",
       "    <tr style=\"text-align: right;\">\n",
       "      <th></th>\n",
       "      <th>Sensor</th>\n",
       "      <th>status</th>\n",
       "      <th>x</th>\n",
       "      <th>y</th>\n",
       "      <th>z</th>\n",
       "      <th>azimuth</th>\n",
       "      <th>elevation</th>\n",
       "      <th>roll</th>\n",
       "      <th>button</th>\n",
       "      <th>quality</th>\n",
       "      <th>time</th>\n",
       "    </tr>\n",
       "  </thead>\n",
       "  <tbody>\n",
       "  </tbody>\n",
       "</table>\n",
       "</div>"
      ],
      "text/plain": [
       "Empty DataFrame\n",
       "Columns: [Sensor, status, x, y, z, azimuth, elevation, roll, button, quality, time]\n",
       "Index: []"
      ]
     },
     "metadata": {},
     "output_type": "display_data"
    },
    {
     "ename": "FileNotFoundError",
     "evalue": "[Errno 2] No such file or directory: '891038_kinematics.txt'",
     "output_type": "error",
     "traceback": [
      "\u001b[1;31m---------------------------------------------------------------------------\u001b[0m",
      "\u001b[1;31mFileNotFoundError\u001b[0m                         Traceback (most recent call last)",
      "Cell \u001b[1;32mIn[63], line 51\u001b[0m\n\u001b[0;32m     46\u001b[0m df \u001b[39m=\u001b[39m pd\u001b[39m.\u001b[39mDataFrame(columns\u001b[39m=\u001b[39mcolnames)\n\u001b[0;32m     49\u001b[0m \u001b[39mfor\u001b[39;00m filename \u001b[39min\u001b[39;00m os\u001b[39m.\u001b[39mlistdir(\u001b[39mdir\u001b[39m):\n\u001b[0;32m     50\u001b[0m     \u001b[39m# load dataframe row by row\u001b[39;00m\n\u001b[1;32m---> 51\u001b[0m     \u001b[39mfor\u001b[39;00m row \u001b[39min\u001b[39;00m parse(Path(filename)):\n\u001b[0;32m     52\u001b[0m         df\u001b[39m.\u001b[39mloc[\u001b[39mlen\u001b[39m(df)] \u001b[39m=\u001b[39m row\n\u001b[0;32m     54\u001b[0m     \u001b[39m# convert columns one by one\u001b[39;00m\n",
      "Cell \u001b[1;32mIn[63], line 11\u001b[0m, in \u001b[0;36mparse\u001b[1;34m(filepath, header_startswith)\u001b[0m\n\u001b[0;32m      8\u001b[0m \u001b[39mdef\u001b[39;00m \u001b[39mparse\u001b[39m(filepath, header_startswith\u001b[39m=\u001b[39m\u001b[39m'\u001b[39m\u001b[39mFormat for each\u001b[39m\u001b[39m'\u001b[39m):\n\u001b[0;32m      9\u001b[0m \u001b[39m    \u001b[39m\u001b[39m'''Parse a kinematics file'''\u001b[39;00m\n\u001b[1;32m---> 11\u001b[0m     \u001b[39mwith\u001b[39;00m \u001b[39mopen\u001b[39;49m(filepath, \u001b[39m'\u001b[39;49m\u001b[39mr\u001b[39;49m\u001b[39m'\u001b[39;49m) \u001b[39mas\u001b[39;00m f:\n\u001b[0;32m     12\u001b[0m \n\u001b[0;32m     13\u001b[0m         \u001b[39m# read header info\u001b[39;00m\n\u001b[0;32m     14\u001b[0m         \u001b[39m#header = f.readline()\u001b[39;00m\n\u001b[0;32m     15\u001b[0m         \u001b[39m#if header_startswith:\u001b[39;00m\n\u001b[0;32m     16\u001b[0m             \u001b[39m# check for header where the columns names are for the sensors\u001b[39;00m\n\u001b[0;32m     17\u001b[0m             \u001b[39m#if not header.startswith(header_startswith): \u001b[39;00m\n\u001b[0;32m     18\u001b[0m                 \u001b[39m#return None\u001b[39;00m\n\u001b[0;32m     19\u001b[0m             \n\u001b[0;32m     20\u001b[0m         \u001b[39m# loop over the lines of sensor data\u001b[39;00m\n\u001b[0;32m     21\u001b[0m         \u001b[39mfor\u001b[39;00m line_number, line \u001b[39min\u001b[39;00m \u001b[39menumerate\u001b[39m(f\u001b[39m.\u001b[39mreadlines()):\n\u001b[0;32m     22\u001b[0m             sensor \u001b[39m=\u001b[39m line_number\u001b[39m.\u001b[39msplit(\u001b[39m'\u001b[39m\u001b[39mSensor\u001b[39m\u001b[39m'\u001b[39m)\n",
      "File \u001b[1;32m~\\AppData\\Roaming\\Python\\Python311\\site-packages\\IPython\\core\\interactiveshell.py:284\u001b[0m, in \u001b[0;36m_modified_open\u001b[1;34m(file, *args, **kwargs)\u001b[0m\n\u001b[0;32m    277\u001b[0m \u001b[39mif\u001b[39;00m file \u001b[39min\u001b[39;00m {\u001b[39m0\u001b[39m, \u001b[39m1\u001b[39m, \u001b[39m2\u001b[39m}:\n\u001b[0;32m    278\u001b[0m     \u001b[39mraise\u001b[39;00m \u001b[39mValueError\u001b[39;00m(\n\u001b[0;32m    279\u001b[0m         \u001b[39mf\u001b[39m\u001b[39m\"\u001b[39m\u001b[39mIPython won\u001b[39m\u001b[39m'\u001b[39m\u001b[39mt let you open fd=\u001b[39m\u001b[39m{\u001b[39;00mfile\u001b[39m}\u001b[39;00m\u001b[39m by default \u001b[39m\u001b[39m\"\u001b[39m\n\u001b[0;32m    280\u001b[0m         \u001b[39m\"\u001b[39m\u001b[39mas it is likely to crash IPython. If you know what you are doing, \u001b[39m\u001b[39m\"\u001b[39m\n\u001b[0;32m    281\u001b[0m         \u001b[39m\"\u001b[39m\u001b[39myou can use builtins\u001b[39m\u001b[39m'\u001b[39m\u001b[39m open.\u001b[39m\u001b[39m\"\u001b[39m\n\u001b[0;32m    282\u001b[0m     )\n\u001b[1;32m--> 284\u001b[0m \u001b[39mreturn\u001b[39;00m io_open(file, \u001b[39m*\u001b[39;49margs, \u001b[39m*\u001b[39;49m\u001b[39m*\u001b[39;49mkwargs)\n",
      "\u001b[1;31mFileNotFoundError\u001b[0m: [Errno 2] No such file or directory: '891038_kinematics.txt'"
     ]
    }
   ],
   "source": [
    "from pathlib import Path\n",
    "import pandas as pd\n",
    "import numpy as np\n",
    "import argparse\n",
    "import os\n",
    "import re\n",
    " \n",
    "def parse(filepath, header_startswith='Format for each'):\n",
    "    '''Parse a kinematics file'''\n",
    "\n",
    "    with open(filepath, 'r') as f:\n",
    "\n",
    "        # read header info\n",
    "        #header = f.readline()\n",
    "        #if header_startswith:\n",
    "            # check for header where the columns names are for the sensors\n",
    "            #if not header.startswith(header_startswith): \n",
    "                #return None\n",
    "            \n",
    "        # loop over the lines of sensor data\n",
    "        for line_number, line in enumerate(f.readlines()):\n",
    "            sensor = line_number.split('Sensor')\n",
    "\n",
    "            # yields every item one by one\n",
    "            yield sensor\n",
    "\n",
    "# location of data \n",
    "root = Path('D:\\\\')\n",
    "dir = root / 'Kinematic_data' \n",
    "\n",
    "# find all kinematics files in the folder\n",
    "file_list = list(dir.glob('*_kinematics.txt'))\n",
    "display(file_list)\n",
    "\n",
    "# use just one kinematics file\n",
    "#fn = file_list[0]\n",
    "##display(fn)\n",
    "\n",
    "# iterate over files in directory\n",
    "\n",
    "\n",
    "colnames = [ 'Sensor', 'status', 'x', 'y', 'z', 'azimuth', 'elevation', 'roll', 'button', 'quality', 'time']\n",
    "\n",
    "display(df)\n",
    "\n",
    "df = pd.DataFrame(columns=colnames)\n",
    "\n",
    "\n",
    "for filename in os.listdir(dir):\n",
    "    # load dataframe row by row\n",
    "    for row in parse(filename):\n",
    "        df.loc[len(df)] = row\n",
    "\n",
    "    # convert columns one by one\n",
    "    coltypes = dict(\n",
    "        x=np.float32, y=np.float32, z=np.float32, \n",
    "        azimuth=np.float32, elevation=np.float32, roll=np.float32, \n",
    "        button=np.int8, quality=np.int8\n",
    "        )\n",
    "\n",
    "    for c,t in coltypes.items():\n",
    "        df[c] = df[c].astype(t)\n",
    "\n",
    "    df['t'] = df.time.astype(np.float64)\n",
    "\n",
    "    #df['video_time'] = df.t - df.t[0]\n",
    "\n",
    "    print (df.time[0], df.t[0])\n",
    "    print(df.dtypes)\n",
    "df"
   ]
  }
 ],
 "metadata": {
  "kernelspec": {
   "display_name": "reu",
   "language": "python",
   "name": "python3"
  },
  "language_info": {
   "name": "python",
   "version": "3.11.3"
  },
  "orig_nbformat": 4
 },
 "nbformat": 4,
 "nbformat_minor": 2
}
